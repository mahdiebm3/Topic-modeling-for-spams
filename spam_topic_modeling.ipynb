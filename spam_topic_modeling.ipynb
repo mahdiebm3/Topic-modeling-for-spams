{
  "nbformat": 4,
  "nbformat_minor": 0,
  "metadata": {
    "colab": {
      "name": "spam_topic_modeling.ipynb",
      "version": "0.3.2",
      "provenance": []
    },
    "kernelspec": {
      "name": "python3",
      "display_name": "Python 3"
    }
  },
  "cells": [
    {
      "metadata": {
        "id": "73kcRlb3Go9c",
        "colab_type": "code",
        "outputId": "76c3c430-d884-4362-cc00-d0109ea8a482",
        "colab": {
          "resources": {
            "http://localhost:8080/nbextensions/google.colab/files.js": {
              "data": "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",
              "ok": true,
              "headers": [
                [
                  "content-type",
                  "application/javascript"
                ]
              ],
              "status": 200,
              "status_text": ""
            }
          },
          "base_uri": "https://localhost:8080/",
          "height": 74
        }
      },
      "cell_type": "code",
      "source": [
        "from google.colab import files\n",
        "\n",
        "uploaded = files.upload()"
      ],
      "execution_count": 0,
      "outputs": [
        {
          "output_type": "display_data",
          "data": {
            "text/html": [
              "\n",
              "     <input type=\"file\" id=\"files-6f5bab7d-f90b-48cb-b7dc-6130cc9dbe43\" name=\"files[]\" multiple disabled />\n",
              "     <output id=\"result-6f5bab7d-f90b-48cb-b7dc-6130cc9dbe43\">\n",
              "      Upload widget is only available when the cell has been executed in the\n",
              "      current browser session. Please rerun this cell to enable.\n",
              "      </output>\n",
              "      <script src=\"/nbextensions/google.colab/files.js\"></script> "
            ],
            "text/plain": [
              "<IPython.core.display.HTML object>"
            ]
          },
          "metadata": {
            "tags": []
          }
        },
        {
          "output_type": "stream",
          "text": [
            "Saving spam.csv to spam.csv\n"
          ],
          "name": "stdout"
        }
      ]
    },
    {
      "metadata": {
        "id": "fMocCyPzG8h_",
        "colab_type": "code",
        "colab": {}
      },
      "cell_type": "code",
      "source": [
        "import io\n",
        "import pandas as pd\n",
        "\n",
        "\n",
        "data = pd.read_csv(io.BytesIO(uploaded['spam.csv']), encoding = 'latin-1')\n",
        "data.head()\n",
        "data.rename({'v1':'label','v2':'text'}, axis = 1, inplace = True)\n",
        "data.drop(columns = ['Unnamed: 2','Unnamed: 3','Unnamed: 4'], inplace = True)\n",
        "data['text'] = data.text.astype(str)"
      ],
      "execution_count": 0,
      "outputs": []
    },
    {
      "metadata": {
        "id": "o7cfo0Z0HLAf",
        "colab_type": "code",
        "outputId": "3091347e-76bb-4dcc-e689-3fb4790956e3",
        "colab": {
          "base_uri": "https://localhost:8080/",
          "height": 34
        }
      },
      "cell_type": "code",
      "source": [
        "spam_data = data[data['label'] == 'spam']['text']\n",
        "type(spam_data)\n",
        "len(spam_data)"
      ],
      "execution_count": 0,
      "outputs": [
        {
          "output_type": "execute_result",
          "data": {
            "text/plain": [
              "747"
            ]
          },
          "metadata": {
            "tags": []
          },
          "execution_count": 15
        }
      ]
    },
    {
      "metadata": {
        "id": "hdRcQRRCIsNn",
        "colab_type": "code",
        "colab": {}
      },
      "cell_type": "code",
      "source": [
        "!pip install pyldavis"
      ],
      "execution_count": 0,
      "outputs": []
    },
    {
      "metadata": {
        "id": "80Q7JWVo0Ub4",
        "colab_type": "code",
        "outputId": "9cfb99ef-e74d-4039-e380-655e1ad185d9",
        "colab": {
          "base_uri": "https://localhost:8080/",
          "height": 68
        }
      },
      "cell_type": "code",
      "source": [
        "import pandas as pd\n",
        "import numpy as np\n",
        "import nltk \n",
        "from nltk.corpus import stopwords\n",
        "from nltk.stem import PorterStemmer\n",
        "from nltk.stem.wordnet import WordNetLemmatizer\n",
        "import string\n",
        "import re\n",
        "from sklearn.feature_extraction.text import CountVectorizer, TfidfVectorizer\n",
        "from sklearn.decomposition import LatentDirichletAllocation, TruncatedSVD\n",
        "from sklearn.model_selection import GridSearchCV\n",
        "from pprint import pprint\n",
        "import spacy\n",
        "import gensim\n",
        "from gensim import models, corpora\n",
        "\n",
        "# Plotting tools\n",
        "import pyLDAvis\n",
        "import pyLDAvis.sklearn\n",
        "import matplotlib.pyplot as plt\n",
        "%matplotlib inline"
      ],
      "execution_count": 0,
      "outputs": [
        {
          "output_type": "stream",
          "text": [
            "/usr/local/lib/python3.6/dist-packages/scipy/sparse/sparsetools.py:21: DeprecationWarning: `scipy.sparse.sparsetools` is deprecated!\n",
            "scipy.sparse.sparsetools is a private module for scipy.sparse, and should not be used.\n",
            "  _deprecated()\n"
          ],
          "name": "stderr"
        }
      ]
    },
    {
      "metadata": {
        "id": "m7lXS5Yi0Ylp",
        "colab_type": "code",
        "outputId": "f5e560cd-8f5b-4285-b26f-019d15ecfd32",
        "colab": {
          "base_uri": "https://localhost:8080/",
          "height": 34
        }
      },
      "cell_type": "code",
      "source": [
        "# Remove Emails\n",
        "data = [re.sub('\\S*@\\S*\\s?', '', sent) for sent in spam_data]\n",
        "\n",
        "# Remove new line characters\n",
        "data = [re.sub('\\s+', ' ', sent) for sent in data]\n",
        "\n",
        "# Remove distracting single quotes\n",
        "data = [re.sub(\"\\'\", \"\", sent) for sent in data]\n",
        "\n",
        "data[10]"
      ],
      "execution_count": 0,
      "outputs": [
        {
          "output_type": "execute_result",
          "data": {
            "text/plain": [
              "'SMS. ac Sptv: The New Jersey Devils and the Detroit Red Wings play Ice Hockey. Correct or Incorrect? End? Reply END SPTV'"
            ]
          },
          "metadata": {
            "tags": []
          },
          "execution_count": 31
        }
      ]
    },
    {
      "metadata": {
        "id": "pM3aAhlr04Ms",
        "colab_type": "code",
        "colab": {}
      },
      "cell_type": "code",
      "source": [
        "def sent_to_words(sentences):\n",
        "    for sentence in sentences:\n",
        "        yield(gensim.utils.simple_preprocess(str(sentence), deacc=True))  # deacc=True removes punctuations\n",
        "\n",
        "data_words = list(sent_to_words(data))\n"
      ],
      "execution_count": 0,
      "outputs": []
    },
    {
      "metadata": {
        "id": "prT-yRdO0-Xq",
        "colab_type": "code",
        "colab": {}
      },
      "cell_type": "code",
      "source": [
        "import spacy.cli\n",
        "def lemmatization(texts, allowed_postags=['NOUN', 'ADJ', 'VERB', 'ADV']):\n",
        "    \"\"\"https://spacy.io/api/annotation\"\"\"\n",
        "    texts_out = []\n",
        "    for sent in texts:\n",
        "        doc = nlp(\" \".join(sent)) \n",
        "        texts_out.append(\" \".join([token.lemma_ if token.lemma_ not in ['-PRON-'] else '' for token in doc if token.pos_ in allowed_postags]))\n",
        "    return texts_out\n",
        "\n",
        "# Initialize spacy 'en' model, keeping only tagger component (for efficiency)\n",
        "# Run in terminal: python3 -m spacy download en\n",
        "spacy.cli.download('en_core_web_lg')\n",
        "\n",
        "nlp = spacy.load('en_core_web_lg', disable=['parser', 'ner'])\n"
      ],
      "execution_count": 0,
      "outputs": []
    },
    {
      "metadata": {
        "id": "OktSeCO31L7x",
        "colab_type": "code",
        "outputId": "0e4d45b5-c81e-410d-aa67-af789aa72735",
        "colab": {
          "base_uri": "https://localhost:8080/",
          "height": 34
        }
      },
      "cell_type": "code",
      "source": [
        "data_lemmatized = lemmatization(data_words, allowed_postags=['NOUN', 'ADJ', 'VERB', 'ADV'])\n",
        "\n",
        "print(data_lemmatized[:2])"
      ],
      "execution_count": 0,
      "outputs": [
        {
          "output_type": "stream",
          "text": [
            "['free entry wkly comp win cup final tkts may text receive entry question std txt rate cs apply', 'freemsg there darl  be week now word back would fun still tb xxx std chgs send rcv']\n"
          ],
          "name": "stdout"
        }
      ]
    },
    {
      "metadata": {
        "id": "U4X9FHBP1XtY",
        "colab_type": "code",
        "colab": {}
      },
      "cell_type": "code",
      "source": [
        "vectorizer = CountVectorizer(analyzer='word',       \n",
        "                             min_df=10,                        # minimum reqd occurences of a word \n",
        "                             stop_words='english',             # remove stop words\n",
        "                             lowercase=True,                   # convert all words to lowercase\n",
        "                             token_pattern='[a-zA-Z0-9]{3,}',  # num chars > 3\n",
        "                             # max_features=50000,             # max number of uniq words\n",
        "                            )\n",
        "\n",
        "\n",
        "data_vectorized = vectorizer.fit_transform(data_lemmatized)"
      ],
      "execution_count": 0,
      "outputs": []
    },
    {
      "metadata": {
        "id": "2CHi5xcQ1cnB",
        "colab_type": "code",
        "outputId": "e9a0efbd-061f-46ea-8b07-f61da9881295",
        "colab": {
          "base_uri": "https://localhost:8080/",
          "height": 275
        }
      },
      "cell_type": "code",
      "source": [
        "# Define Search Param\n",
        "search_params = {'n_components': [4, 5, 6, 7, 8, 9, 10], 'learning_decay': [.4,.5, .7, .9]}\n",
        "\n",
        "# Init the Model\n",
        "lda = LatentDirichletAllocation()\n",
        "\n",
        "# Init Grid Search Class\n",
        "model = GridSearchCV(lda, param_grid=search_params)\n",
        "\n",
        "# Do the Grid Search\n",
        "model.fit(data_vectorized)"
      ],
      "execution_count": 0,
      "outputs": [
        {
          "output_type": "stream",
          "text": [
            "/usr/local/lib/python3.6/dist-packages/sklearn/model_selection/_split.py:2053: FutureWarning: You should specify a value for 'cv' instead of relying on the default value. The default value will change from 3 to 5 in version 0.22.\n",
            "  warnings.warn(CV_WARNING, FutureWarning)\n"
          ],
          "name": "stderr"
        },
        {
          "output_type": "execute_result",
          "data": {
            "text/plain": [
              "GridSearchCV(cv='warn', error_score='raise-deprecating',\n",
              "       estimator=LatentDirichletAllocation(batch_size=128, doc_topic_prior=None,\n",
              "             evaluate_every=-1, learning_decay=0.7,\n",
              "             learning_method='batch', learning_offset=10.0,\n",
              "             max_doc_update_iter=100, max_iter=10, mean_change_tol=0.001,\n",
              "             n_components=10, n_jobs=None, n_topics=None, perp_tol=0.1,\n",
              "             random_state=None, topic_word_prior=None,\n",
              "             total_samples=1000000.0, verbose=0),\n",
              "       fit_params=None, iid='warn', n_jobs=None,\n",
              "       param_grid={'n_components': [4, 5, 6, 7, 8, 9, 10], 'learning_decay': [0.4, 0.5, 0.7, 0.9]},\n",
              "       pre_dispatch='2*n_jobs', refit=True, return_train_score='warn',\n",
              "       scoring=None, verbose=0)"
            ]
          },
          "metadata": {
            "tags": []
          },
          "execution_count": 42
        }
      ]
    },
    {
      "metadata": {
        "id": "FmjpSmPG2GDx",
        "colab_type": "code",
        "outputId": "9e827a39-b79f-4cb0-f454-33e68ae5f366",
        "colab": {
          "base_uri": "https://localhost:8080/",
          "height": 34
        }
      },
      "cell_type": "code",
      "source": [
        "# Best Model\n",
        "best_lda_model = model.best_estimator_\n",
        "\n",
        "# Model Parameters\n",
        "print(\"Best Model's Params: \", model.best_params_)\n"
      ],
      "execution_count": 0,
      "outputs": [
        {
          "output_type": "stream",
          "text": [
            "Best Model's Params:  {'learning_decay': 0.7, 'n_components': 4}\n"
          ],
          "name": "stdout"
        }
      ]
    },
    {
      "metadata": {
        "id": "-JjodfCp2XIJ",
        "colab_type": "code",
        "outputId": "940c6531-5d32-4964-8be0-072e1d577b05",
        "colab": {
          "base_uri": "https://localhost:8080/",
          "height": 204
        }
      },
      "cell_type": "code",
      "source": [
        "# Create Document - Topic Matrix\n",
        "lda_output = best_lda_model.transform(data_vectorized)\n",
        "\n",
        "# column names\n",
        "topicnames = [\"Topic\" + str(i) for i in range(best_lda_model.n_components)]\n",
        "\n",
        "# index names\n",
        "docnames = [\"Doc\" + str(i) for i in range(len(data))]\n",
        "\n",
        "# Make the pandas dataframe\n",
        "df_document_topic = pd.DataFrame(np.round(lda_output, 2), columns=topicnames, index=docnames)\n",
        "\n",
        "# Get dominant topic for each document\n",
        "dominant_topic = np.argmax(df_document_topic.values, axis=1)\n",
        "df_document_topic['dominant_topic'] = dominant_topic\n",
        "\n",
        "\n",
        "df_document_topic.head()"
      ],
      "execution_count": 0,
      "outputs": [
        {
          "output_type": "execute_result",
          "data": {
            "text/html": [
              "<div>\n",
              "<style scoped>\n",
              "    .dataframe tbody tr th:only-of-type {\n",
              "        vertical-align: middle;\n",
              "    }\n",
              "\n",
              "    .dataframe tbody tr th {\n",
              "        vertical-align: top;\n",
              "    }\n",
              "\n",
              "    .dataframe thead th {\n",
              "        text-align: right;\n",
              "    }\n",
              "</style>\n",
              "<table border=\"1\" class=\"dataframe\">\n",
              "  <thead>\n",
              "    <tr style=\"text-align: right;\">\n",
              "      <th></th>\n",
              "      <th>Topic0</th>\n",
              "      <th>Topic1</th>\n",
              "      <th>Topic2</th>\n",
              "      <th>Topic3</th>\n",
              "      <th>dominant_topic</th>\n",
              "    </tr>\n",
              "  </thead>\n",
              "  <tbody>\n",
              "    <tr>\n",
              "      <th>Doc0</th>\n",
              "      <td>0.02</td>\n",
              "      <td>0.78</td>\n",
              "      <td>0.02</td>\n",
              "      <td>0.18</td>\n",
              "      <td>1</td>\n",
              "    </tr>\n",
              "    <tr>\n",
              "      <th>Doc1</th>\n",
              "      <td>0.04</td>\n",
              "      <td>0.04</td>\n",
              "      <td>0.04</td>\n",
              "      <td>0.89</td>\n",
              "      <td>3</td>\n",
              "    </tr>\n",
              "    <tr>\n",
              "      <th>Doc2</th>\n",
              "      <td>0.02</td>\n",
              "      <td>0.93</td>\n",
              "      <td>0.03</td>\n",
              "      <td>0.02</td>\n",
              "      <td>1</td>\n",
              "    </tr>\n",
              "    <tr>\n",
              "      <th>Doc3</th>\n",
              "      <td>0.02</td>\n",
              "      <td>0.94</td>\n",
              "      <td>0.02</td>\n",
              "      <td>0.02</td>\n",
              "      <td>1</td>\n",
              "    </tr>\n",
              "    <tr>\n",
              "      <th>Doc4</th>\n",
              "      <td>0.24</td>\n",
              "      <td>0.31</td>\n",
              "      <td>0.02</td>\n",
              "      <td>0.42</td>\n",
              "      <td>3</td>\n",
              "    </tr>\n",
              "  </tbody>\n",
              "</table>\n",
              "</div>"
            ],
            "text/plain": [
              "      Topic0  Topic1  Topic2  Topic3  dominant_topic\n",
              "Doc0    0.02    0.78    0.02    0.18               1\n",
              "Doc1    0.04    0.04    0.04    0.89               3\n",
              "Doc2    0.02    0.93    0.03    0.02               1\n",
              "Doc3    0.02    0.94    0.02    0.02               1\n",
              "Doc4    0.24    0.31    0.02    0.42               3"
            ]
          },
          "metadata": {
            "tags": []
          },
          "execution_count": 46
        }
      ]
    },
    {
      "metadata": {
        "id": "BLS3apOH2nv8",
        "colab_type": "code",
        "outputId": "85682d83-bad3-4117-d21a-891539729fe9",
        "colab": {
          "base_uri": "https://localhost:8080/",
          "height": 173
        }
      },
      "cell_type": "code",
      "source": [
        "df_topic_distribution = df_document_topic['dominant_topic'].value_counts().reset_index(name=\"Num Documents\")\n",
        "df_topic_distribution.columns = ['Topic Num', 'Num Documents']\n",
        "df_topic_distribution"
      ],
      "execution_count": 0,
      "outputs": [
        {
          "output_type": "execute_result",
          "data": {
            "text/html": [
              "<div>\n",
              "<style scoped>\n",
              "    .dataframe tbody tr th:only-of-type {\n",
              "        vertical-align: middle;\n",
              "    }\n",
              "\n",
              "    .dataframe tbody tr th {\n",
              "        vertical-align: top;\n",
              "    }\n",
              "\n",
              "    .dataframe thead th {\n",
              "        text-align: right;\n",
              "    }\n",
              "</style>\n",
              "<table border=\"1\" class=\"dataframe\">\n",
              "  <thead>\n",
              "    <tr style=\"text-align: right;\">\n",
              "      <th></th>\n",
              "      <th>Topic Num</th>\n",
              "      <th>Num Documents</th>\n",
              "    </tr>\n",
              "  </thead>\n",
              "  <tbody>\n",
              "    <tr>\n",
              "      <th>0</th>\n",
              "      <td>3</td>\n",
              "      <td>298</td>\n",
              "    </tr>\n",
              "    <tr>\n",
              "      <th>1</th>\n",
              "      <td>0</td>\n",
              "      <td>177</td>\n",
              "    </tr>\n",
              "    <tr>\n",
              "      <th>2</th>\n",
              "      <td>2</td>\n",
              "      <td>139</td>\n",
              "    </tr>\n",
              "    <tr>\n",
              "      <th>3</th>\n",
              "      <td>1</td>\n",
              "      <td>133</td>\n",
              "    </tr>\n",
              "  </tbody>\n",
              "</table>\n",
              "</div>"
            ],
            "text/plain": [
              "   Topic Num  Num Documents\n",
              "0          3            298\n",
              "1          0            177\n",
              "2          2            139\n",
              "3          1            133"
            ]
          },
          "metadata": {
            "tags": []
          },
          "execution_count": 47
        }
      ]
    },
    {
      "metadata": {
        "id": "XGACtp8T2pxj",
        "colab_type": "code",
        "outputId": "3a453f0d-d749-447c-8057-8064c1561072",
        "colab": {
          "base_uri": "https://localhost:8080/",
          "height": 861
        }
      },
      "cell_type": "code",
      "source": [
        "pyLDAvis.enable_notebook()\n",
        "panel = pyLDAvis.sklearn.prepare(best_lda_model, data_vectorized, vectorizer, mds='tsne')\n",
        "panel"
      ],
      "execution_count": 0,
      "outputs": [
        {
          "output_type": "execute_result",
          "data": {
            "text/html": [
              "\n",
              "<link rel=\"stylesheet\" type=\"text/css\" href=\"https://cdn.rawgit.com/bmabey/pyLDAvis/files/ldavis.v1.0.0.css\">\n",
              "\n",
              "\n",
              "<div id=\"ldavis_el433139756847935304335542569\"></div>\n",
              "<script type=\"text/javascript\">\n",
              "\n",
              "var ldavis_el433139756847935304335542569_data = {\"mdsDat\": {\"Freq\": [34.49063365839, 22.530559127355616, 22.074523281489927, 20.904283932764468], \"cluster\": [1, 1, 1, 1], \"topics\": [1, 2, 3, 4], \"x\": [4.7060933113098145, -352.1184997558594, 69.85807037353516, 426.6822814941406], \"y\": [191.01132202148438, -230.99790954589844, -587.861328125, -165.85203552246094]}, \"tinfo\": {\"Category\": [\"Default\", \"Default\", \"Default\", \"Default\", \"Default\", \"Default\", \"Default\", \"Default\", \"Default\", \"Default\", \"Default\", \"Default\", \"Default\", \"Default\", \"Default\", \"Default\", \"Default\", \"Default\", \"Default\", \"Default\", \"Default\", \"Default\", \"Default\", \"Default\", \"Default\", \"Default\", \"Default\", \"Default\", \"Default\", \"Default\", \"Topic1\", \"Topic1\", \"Topic1\", \"Topic1\", \"Topic1\", \"Topic1\", \"Topic1\", \"Topic1\", \"Topic1\", \"Topic1\", \"Topic1\", \"Topic1\", \"Topic1\", \"Topic1\", \"Topic1\", \"Topic1\", \"Topic1\", \"Topic1\", \"Topic1\", \"Topic1\", \"Topic1\", \"Topic1\", \"Topic1\", \"Topic1\", \"Topic1\", \"Topic1\", \"Topic1\", \"Topic1\", \"Topic1\", \"Topic1\", \"Topic1\", \"Topic1\", \"Topic1\", \"Topic1\", \"Topic1\", \"Topic1\", \"Topic1\", \"Topic1\", \"Topic1\", \"Topic1\", \"Topic1\", \"Topic1\", \"Topic1\", \"Topic1\", \"Topic1\", \"Topic1\", \"Topic1\", \"Topic1\", \"Topic2\", \"Topic2\", \"Topic2\", \"Topic2\", \"Topic2\", \"Topic2\", \"Topic2\", \"Topic2\", \"Topic2\", \"Topic2\", \"Topic2\", \"Topic2\", \"Topic2\", \"Topic2\", \"Topic2\", \"Topic2\", \"Topic2\", \"Topic2\", \"Topic2\", \"Topic2\", \"Topic2\", \"Topic2\", \"Topic2\", \"Topic2\", \"Topic2\", \"Topic2\", \"Topic2\", \"Topic2\", \"Topic2\", \"Topic2\", \"Topic2\", \"Topic2\", \"Topic2\", \"Topic2\", \"Topic2\", \"Topic2\", \"Topic2\", \"Topic2\", \"Topic2\", \"Topic2\", \"Topic2\", \"Topic2\", \"Topic2\", \"Topic2\", \"Topic2\", \"Topic2\", \"Topic3\", \"Topic3\", \"Topic3\", \"Topic3\", \"Topic3\", \"Topic3\", \"Topic3\", \"Topic3\", \"Topic3\", \"Topic3\", \"Topic3\", \"Topic3\", \"Topic3\", \"Topic3\", \"Topic3\", \"Topic3\", \"Topic3\", \"Topic3\", \"Topic3\", \"Topic3\", \"Topic3\", \"Topic3\", \"Topic3\", \"Topic3\", \"Topic3\", \"Topic3\", \"Topic3\", \"Topic3\", \"Topic3\", \"Topic3\", \"Topic3\", \"Topic3\", \"Topic3\", \"Topic3\", \"Topic3\", \"Topic3\", \"Topic3\", \"Topic3\", \"Topic3\", \"Topic3\", \"Topic3\", \"Topic3\", \"Topic3\", \"Topic3\", \"Topic3\", \"Topic3\", \"Topic3\", \"Topic3\", \"Topic4\", \"Topic4\", \"Topic4\", \"Topic4\", \"Topic4\", \"Topic4\", \"Topic4\", \"Topic4\", \"Topic4\", \"Topic4\", \"Topic4\", \"Topic4\", \"Topic4\", \"Topic4\", \"Topic4\", \"Topic4\", \"Topic4\", \"Topic4\", \"Topic4\", \"Topic4\", \"Topic4\", \"Topic4\", \"Topic4\", \"Topic4\", \"Topic4\", \"Topic4\", \"Topic4\", \"Topic4\", \"Topic4\", \"Topic4\", \"Topic4\", \"Topic4\", \"Topic4\", \"Topic4\", \"Topic4\", \"Topic4\", \"Topic4\", \"Topic4\", \"Topic4\", \"Topic4\", \"Topic4\", \"Topic4\", \"Topic4\", \"Topic4\", \"Topic4\", \"Topic4\", \"Topic4\"], \"Freq\": [106.0, 62.0, 139.0, 120.0, 70.0, 44.0, 67.0, 38.0, 114.0, 143.0, 56.0, 78.0, 95.0, 50.0, 27.0, 30.0, 27.0, 26.0, 25.0, 96.0, 220.0, 75.0, 56.0, 27.0, 32.0, 41.0, 22.0, 22.0, 37.0, 22.0, 105.275242637443, 31.454094527124205, 30.519871115978358, 24.84211697525379, 24.839348719026198, 24.828439669533935, 18.2169428548935, 18.210065799939613, 17.270732979317895, 17.26329183201995, 17.262428322847832, 17.215864396960775, 15.377727471361865, 15.377407673038732, 15.377407673038732, 14.43187732071719, 14.426456002185345, 22.47926289896462, 13.481561467628671, 11.593500414945872, 11.588771515767885, 19.510899472477327, 10.64380250094775, 9.692302927488038, 9.689019242520022, 9.683398894028707, 10.369020758030121, 31.851381115739862, 107.2404980472013, 10.636742757712359, 115.28317485644237, 23.389117453467314, 53.059483678147814, 132.4372644343707, 35.615554853579496, 33.92490654822817, 44.17242574888926, 70.78741873201601, 40.835209667558615, 37.661884602504585, 31.61112843760359, 41.162968333171136, 32.77032042536891, 28.754460733502988, 23.701362099926065, 23.88554857098834, 28.115578394441, 21.467587369614503, 62.14639317825909, 43.472219178752916, 25.791408119864865, 21.857454385621065, 18.914886817671274, 17.931543717839155, 17.920992988975183, 15.956057885414337, 12.036386122819724, 12.034496657002286, 11.050898996358695, 11.029495697429525, 10.07020283794931, 10.04895192907737, 9.833880811349292, 22.884219953427554, 23.25829408703143, 27.335647948773214, 13.038216363312797, 16.631006041597324, 24.899608817199162, 37.99597450954392, 23.97641458610273, 16.455368920150065, 9.098593383595631, 8.124170061925714, 35.741567596748304, 15.842486616733895, 11.084267575352586, 16.42894868756112, 20.395192798918035, 28.00254510572321, 41.62625733542239, 38.300545973390435, 23.3971398840979, 39.33051563019217, 27.332355236039508, 35.51770656904489, 24.154392003388548, 30.923629801533032, 34.14845377894636, 22.66219413016839, 26.75917982190793, 18.983894456787826, 18.292737395904528, 17.199501314499397, 25.1308275017055, 26.960368369847302, 16.515064049490537, 16.50773843675599, 15.557171044247797, 15.553833484845075, 15.553746999214715, 14.595930144348278, 13.639130534981698, 13.624966551430871, 12.680061702439332, 12.679051933943912, 12.675004798782231, 9.813724687823617, 9.804290202645042, 25.611979389032335, 59.37178104251615, 10.635956701769416, 16.50160702918499, 7.923017144020337, 15.168839924950822, 10.484388392664819, 8.4976305612166, 12.641037108677953, 24.686698090013607, 30.85165104361518, 14.48100271705767, 7.918553344888381, 10.74719619934761, 11.597132701944016, 20.80967258188835, 36.05529167312469, 64.10455219795611, 34.29444213222424, 36.792706895953835, 21.312633989135822, 19.054492796876424, 41.80176013838355, 16.065706727334053, 14.716028241029212, 19.14217534499356, 24.033479633424875, 21.122384246038855, 23.629108292929292, 23.544205795681826, 19.466750290038423, 18.021469404137864, 16.573252969000333, 37.39715076754414, 26.36420608412937, 21.340828305302885, 21.334936967990384, 19.332152778051157, 19.32714302446845, 15.30091608339653, 15.193494647685345, 12.30365597686181, 12.293436098866774, 12.28716969373573, 10.294597778088056, 10.294597778088056, 10.292919428095686, 10.290733937043179, 28.142883355478954, 14.193561218080491, 9.318851040270147, 11.343399146277024, 12.337780657497731, 10.252490691470342, 7.356845118473281, 18.688347545390123, 11.29000755338059, 42.99863564221491, 9.142113074754027, 19.88981493402877, 7.08092854652613, 20.61777926207161, 8.50626075853255, 21.17058287461843, 50.83736848436923, 40.02341651345495, 24.198173274339247, 42.13877670895235, 40.690650563839085, 47.69470259554932, 38.55182837131082, 19.35979559238761, 19.532896975552777, 16.423378848939652, 14.163216869508217, 16.248713553649605, 17.03282630806581, 16.099227638243075, 13.729208553678031, 14.288970157255369], \"Term\": [\"reply\", \"urgent\", \"text\", \"stop\", \"service\", \"ppm\", \"award\", \"receive\", \"claim\", \"win\", \"box\", \"send\", \"prize\", \"customer\", \"select\", \"apply\", \"poly\", \"collection\", \"know\", \"www\", \"free\", \"cash\", \"com\", \"game\", \"holiday\", \"pobox\", \"update\", \"http\", \"late\", \"hrs\", \"reply\", \"video\", \"want\", \"help\", \"pic\", \"age\", \"account\", \"credit\", \"private\", \"unsubscribe\", \"expire\", \"join\", \"statement\", \"point\", \"identifier\", \"camcorder\", \"sexy\", \"weekly\", \"freemsg\", \"redeem\", \"anytime\", \"club\", \"sex\", \"tomorrow\", \"miss\", \"wanna\", \"std\", \"sms\", \"stop\", \"xxx\", \"text\", \"network\", \"new\", \"free\", \"message\", \"msg\", \"send\", \"txt\", \"min\", \"just\", \"com\", \"www\", \"week\", \"phone\", \"day\", \"chat\", \"tone\", \"mobile\", \"urgent\", \"ppm\", \"collection\", \"hrs\", \"sae\", \"double\", \"tell\", \"mobileupd\", \"caller\", \"complimentary\", \"motorola\", \"fantasy\", \"getz\", \"news\", \"direct\", \"valid\", \"await\", \"holiday\", \"optout\", \"attempt\", \"landline\", \"box\", \"line\", \"mob\", \"weekend\", \"mate\", \"nokia\", \"orange\", \"bonus\", \"land\", \"pobox\", \"contact\", \"prize\", \"tone\", \"guarantee\", \"claim\", \"min\", \"mobile\", \"award\", \"win\", \"free\", \"cash\", \"txt\", \"week\", \"just\", \"draw\", \"know\", \"poly\", \"suite\", \"order\", \"row\", \"auction\", \"thank\", \"quiz\", \"dating\", \"content\", \"easy\", \"worth\", \"sub\", \"representative\", \"currently\", \"game\", \"service\", \"choose\", \"good\", \"ldn\", \"national\", \"enter\", \"question\", \"play\", \"ringtone\", \"customer\", \"pound\", \"year\", \"wait\", \"charge\", \"pobox\", \"cash\", \"win\", \"send\", \"prize\", \"chat\", \"rate\", \"mobile\", \"land\", \"chance\", \"contact\", \"claim\", \"tone\", \"text\", \"txt\", \"just\", \"box\", \"msg\", \"receive\", \"select\", \"update\", \"http\", \"mth\", \"special\", \"think\", \"operator\", \"ipod\", \"important\", \"look\", \"secret\", \"admirer\", \"speak\", \"custcare\", \"apply\", \"winner\", \"value\", \"make\", \"reveal\", \"wkly\", \"comp\", \"entry\", \"opt\", \"award\", \"match\", \"camera\", \"player\", \"late\", \"net\", \"number\", \"claim\", \"www\", \"com\", \"win\", \"mobile\", \"free\", \"txt\", \"customer\", \"phone\", \"today\", \"chance\", \"guarantee\", \"prize\", \"cash\", \"end\", \"voucher\"], \"Total\": [106.0, 62.0, 139.0, 120.0, 70.0, 44.0, 67.0, 38.0, 114.0, 143.0, 56.0, 78.0, 95.0, 50.0, 27.0, 30.0, 27.0, 26.0, 25.0, 96.0, 220.0, 75.0, 56.0, 27.0, 32.0, 41.0, 22.0, 22.0, 37.0, 22.0, 106.025690174352, 32.20519705573717, 31.258211466029937, 25.579668862083732, 25.579782505169582, 25.580457813944676, 18.95478226971754, 18.95501765618956, 18.008350649031236, 18.008531898534432, 18.008741763396305, 18.008996880407818, 16.11552297249183, 16.115542731713493, 16.115542731713493, 15.169049294424955, 15.169269221779974, 23.69316637361843, 14.222806961307416, 12.329758893009014, 12.329826665365951, 20.854561615073916, 11.383432925628336, 10.4371635066287, 10.43746230342946, 10.437442021038269, 11.39935152971801, 35.07258367438235, 120.36462320828963, 12.366330508748277, 139.419825263454, 27.677336581957604, 69.6171895332494, 220.81782918644635, 47.76775774296532, 51.3410131037786, 78.97168935099467, 159.6426327209166, 76.83365583741798, 75.67969765060683, 56.302170656761504, 96.56762865526406, 67.37521161728056, 57.203586917891, 41.47419837684995, 45.69722275837613, 87.79215566015503, 139.47770464088202, 62.876293757085456, 44.206985364386625, 26.52014962896688, 22.589677567887563, 19.64203993304533, 18.659430212389037, 18.659168014954524, 16.694392033594834, 12.7638789830378, 12.763920558959358, 11.78129690917975, 11.781327165426582, 10.798646672029182, 10.798449911541267, 10.790025078605023, 26.584676291127167, 27.58098385764599, 32.51244994620043, 15.640329073722437, 22.455963745915827, 34.15690530051457, 56.51329331456073, 37.13354214158099, 26.346460972145696, 14.77645187755197, 13.62114049744701, 66.42004209750739, 29.754513501503368, 21.82431731364273, 32.9826439443469, 41.70119291676133, 60.40271260532062, 95.68934083960366, 87.79215566015503, 50.18609367701599, 114.44632439218555, 76.83365583741798, 139.47770464088202, 67.73259999786575, 143.43474690069027, 220.81782918644635, 75.05391010151027, 159.6426327209166, 67.37521161728056, 75.67969765060683, 39.54838984969892, 25.866297814111608, 27.780613353494374, 17.24932595865789, 17.249443442310216, 16.291902354448503, 16.291846789434672, 16.29183228549256, 15.33453286042455, 14.376937884788266, 14.377054496137472, 13.419812734183113, 13.419616877804412, 13.41939200774823, 10.54718224304253, 10.547331290712258, 27.818550974586596, 70.74249985671753, 13.519682585770129, 21.179566280482927, 10.596653209212363, 22.19762219060091, 16.23354763622742, 13.620915905329671, 20.452415229003357, 40.05770282227215, 50.69659278514804, 23.95285815788983, 13.36518791143589, 19.36543774575223, 22.87158462876101, 41.70119291676133, 75.05391010151027, 143.43474690069027, 78.97168935099467, 95.68934083960366, 45.69722275837613, 39.07422490261253, 139.47770464088202, 32.9826439443469, 29.39007468364785, 60.40271260532062, 114.44632439218555, 87.79215566015503, 139.419825263454, 159.6426327209166, 75.67969765060683, 56.51329331456073, 51.3410131037786, 38.13633486317229, 27.08826075427684, 22.06600123848762, 22.06561489077221, 20.05708852806655, 20.056763458698644, 16.03854347320807, 16.03613136807068, 13.026037109827277, 13.025658257954435, 13.025124899958733, 11.017141919263524, 11.017141919263524, 11.017110899329, 11.01695855469665, 30.98605134942262, 16.944353735752774, 11.928955900969651, 14.895904842944464, 17.81486059516561, 14.844186223881696, 10.847420612160848, 28.538969485736033, 17.723117739747437, 67.73259999786575, 15.68265221557681, 35.79067971362855, 12.781674721354285, 37.77144471148253, 15.64613409986216, 39.624212570717106, 114.44632439218555, 96.56762865526406, 56.302170656761504, 143.43474690069027, 139.47770464088202, 220.81782918644635, 159.6426327209166, 50.69659278514804, 57.203586917891, 38.433711794452975, 29.39007468364785, 50.18609367701599, 95.68934083960366, 75.05391010151027, 27.304727066003338, 36.94444246910954], \"loglift\": [30.0, 29.0, 28.0, 27.0, 26.0, 25.0, 24.0, 23.0, 22.0, 21.0, 20.0, 19.0, 18.0, 17.0, 16.0, 15.0, 14.0, 13.0, 12.0, 11.0, 10.0, 9.0, 8.0, 7.0, 6.0, 5.0, 4.0, 3.0, 2.0, 1.0, 1.0574, 1.0409, 1.0406, 1.0352, 1.0351, 1.0346, 1.0248, 1.0244, 1.0227, 1.0222, 1.0222, 1.0194, 1.0176, 1.0176, 1.0176, 1.0147, 1.0143, 1.0119, 1.011, 1.0029, 1.0025, 0.9979, 0.9973, 0.9904, 0.9901, 0.9895, 0.9697, 0.9681, 0.949, 0.9138, 0.8744, 0.8961, 0.7929, 0.5533, 0.7709, 0.6501, 0.4835, 0.2512, 0.4324, 0.3666, 0.4873, 0.2118, 0.3437, 0.3767, 0.5049, 0.4157, -0.0742, -0.8069, 1.4786, 1.4735, 1.4624, 1.4573, 1.4526, 1.4505, 1.4499, 1.4451, 1.4316, 1.4315, 1.4263, 1.4244, 1.4205, 1.4184, 1.3975, 1.3404, 1.3198, 1.3169, 1.3083, 1.19, 1.1742, 1.0933, 1.0528, 1.0196, 1.0054, 0.9735, 0.8706, 0.86, 0.8128, 0.7934, 0.7751, 0.7216, 0.6579, 0.6608, 0.7272, 0.4222, 0.4567, 0.1224, 0.4592, -0.0441, -0.3763, 0.2928, -0.2958, 0.2236, 0.0703, 0.6577, 1.4819, 1.4808, 1.4672, 1.4668, 1.4646, 1.4644, 1.4644, 1.4614, 1.4581, 1.457, 1.454, 1.454, 1.4537, 1.4387, 1.4377, 1.4281, 1.3355, 1.2708, 1.2612, 1.22, 1.13, 1.0736, 1.0389, 1.0296, 1.0267, 1.0141, 1.0075, 0.9873, 0.9219, 0.8316, 0.8156, 0.7776, 0.7054, 0.6766, 0.5549, 0.748, 0.7926, 0.3058, 0.7915, 0.819, 0.3616, -0.0499, 0.0861, -0.2643, -0.4033, 0.1529, 0.3678, 0.38, 1.5456, 1.5381, 1.5318, 1.5315, 1.5284, 1.5282, 1.5181, 1.5112, 1.5082, 1.5074, 1.5069, 1.4974, 1.4974, 1.4972, 1.497, 1.469, 1.3881, 1.3183, 1.2928, 1.1978, 1.1951, 1.1769, 1.1418, 1.1143, 1.1108, 1.0256, 0.9777, 0.9746, 0.9598, 0.9558, 0.9384, 0.7537, 0.6844, 0.7208, 0.3403, 0.3333, 0.0327, 0.1443, 0.6026, 0.4907, 0.715, 0.8352, 0.4375, -0.1607, 0.0258, 0.8777, 0.6153], \"logprob\": [30.0, 29.0, 28.0, 27.0, 26.0, 25.0, 24.0, 23.0, 22.0, 21.0, 20.0, 19.0, 18.0, 17.0, 16.0, 15.0, 14.0, 13.0, 12.0, 11.0, 10.0, 9.0, 8.0, 7.0, 6.0, 5.0, 4.0, 3.0, 2.0, 1.0, -2.9395, -4.1476, -4.1777, -4.3836, -4.3837, -4.3841, -4.6938, -4.6941, -4.7471, -4.7475, -4.7476, -4.7503, -4.8632, -4.8632, -4.8632, -4.9267, -4.9271, -4.4835, -4.9948, -5.1457, -5.1461, -4.6251, -5.2311, -5.3248, -5.3251, -5.3257, -5.2573, -4.135, -2.921, -5.2318, -2.8487, -4.4438, -3.6247, -2.71, -4.0233, -4.072, -3.808, -3.3364, -3.8866, -3.9675, -4.1426, -3.8786, -4.1066, -4.2373, -4.4306, -4.4228, -4.2598, -4.5296, -3.0408, -3.3982, -3.9203, -4.0858, -4.2304, -4.2837, -4.2843, -4.4005, -4.6824, -4.6825, -4.7678, -4.7697, -4.8607, -4.8628, -4.8845, -4.0399, -4.0236, -3.8621, -4.6024, -4.359, -3.9555, -3.5328, -3.9932, -4.3697, -4.9622, -5.0755, -3.594, -4.4076, -4.7648, -4.3713, -4.155, -3.838, -3.4416, -3.5248, -4.0177, -3.4983, -3.8622, -3.6003, -3.9858, -3.7388, -3.6396, -4.0496, -3.8834, -4.2267, -4.2638, -4.3254, -3.9258, -3.8555, -4.3456, -4.346, -4.4053, -4.4055, -4.4056, -4.4691, -4.5369, -4.538, -4.6098, -4.6099, -4.6102, -4.8661, -4.867, -3.9068, -3.066, -4.7856, -4.3464, -5.0801, -4.4306, -4.8, -5.0101, -4.6129, -3.9436, -3.7207, -4.477, -5.0806, -4.7752, -4.6991, -4.1144, -3.5648, -2.9893, -3.6149, -3.5446, -4.0906, -4.2026, -3.4169, -4.3732, -4.4609, -4.198, -3.9704, -4.0995, -3.9874, -3.991, -4.1811, -4.2583, -4.3421, -3.4738, -3.8234, -4.0348, -4.035, -4.1336, -4.1339, -4.3675, -4.3745, -4.5855, -4.5863, -4.5868, -4.7638, -4.7638, -4.7639, -4.7641, -3.7581, -4.4426, -4.8633, -4.6667, -4.5827, -4.7679, -5.0998, -4.1675, -4.6715, -3.3342, -4.8825, -4.1052, -5.138, -4.0692, -4.9546, -4.0428, -3.1668, -3.4059, -3.9091, -3.3544, -3.3894, -3.2306, -3.4434, -4.1322, -4.1233, -4.2967, -4.4447, -4.3074, -4.2602, -4.3166, -4.4759, -4.4359]}, \"token.table\": {\"Topic\": [1, 4, 1, 1, 1, 2, 4, 2, 3, 3, 2, 4, 2, 4, 2, 4, 2, 3, 2, 1, 2, 4, 2, 3, 4, 3, 4, 1, 3, 1, 3, 3, 4, 2, 3, 4, 1, 3, 2, 1, 4, 1, 4, 2, 1, 2, 3, 4, 3, 1, 3, 4, 3, 4, 3, 1, 2, 3, 4, 2, 2, 1, 2, 3, 3, 1, 4, 1, 3, 1, 4, 1, 2, 1, 2, 3, 4, 1, 2, 3, 2, 2, 3, 2, 3, 4, 1, 2, 4, 2, 4, 1, 4, 4, 1, 1, 2, 3, 3, 2, 3, 2, 3, 2, 4, 2, 3, 1, 2, 4, 4, 3, 4, 1, 4, 2, 3, 1, 2, 1, 2, 3, 1, 1, 2, 4, 1, 2, 3, 4, 2, 2, 1, 3, 4, 4, 2, 3, 1, 4, 1, 4, 1, 2, 3, 4, 2, 1, 2, 3, 4, 2, 3, 4, 4, 1, 3, 4, 1, 2, 2, 4, 3, 1, 2, 3, 4, 1, 3, 4, 3, 4, 2, 3, 1, 3, 1, 3, 4, 2, 1, 2, 3, 4, 3, 4, 3, 2, 3, 4, 4, 1, 1, 3, 3, 4, 1, 3, 3, 2, 4, 4, 1, 3, 1, 3, 1, 1, 1, 3, 4, 4, 1, 1, 4, 1, 3, 3, 3, 2, 1, 3, 3, 4, 2, 3, 4, 1, 1, 2, 3, 1, 2, 3, 4, 1, 4, 2, 2, 4, 3, 4, 1, 1, 3, 4, 2, 3, 1, 1, 1, 2, 3, 4, 1, 2, 4, 1, 3, 1, 2, 3, 4, 3, 4, 3, 4, 3, 1, 2, 4, 1, 2, 1, 3], \"Freq\": [0.949628423258498, 0.907676425817385, 0.9773085447427664, 0.9732496916365886, 0.06454517154981954, 0.03227258577490977, 0.9036324016974734, 0.7570372036734282, 0.22265800108042005, 0.9820863286276461, 0.8339078880836932, 0.14502745879716403, 0.3543345449717896, 0.6348493930744564, 0.5040249297110304, 0.45820448155548216, 0.6724081675524871, 0.3185091319985465, 0.9401530691372947, 0.922931933852004, 0.41910352415822455, 0.5588046988776327, 0.3064463925849106, 0.47965522317638176, 0.213180099189503, 0.5103763825529083, 0.4763512903827144, 0.4809461250082123, 0.5246685000089589, 0.5251960305531016, 0.4595465267339639, 0.8136285693258679, 0.1479324671501578, 0.3407711012749916, 0.2097052930923025, 0.44562374782114283, 0.959022796506246, 0.0479511398253123, 0.9803866254058106, 0.5683617456791077, 0.42627130925933077, 0.2765634437219807, 0.6453147020179549, 0.9401500067764728, 0.08277773934873864, 0.46355534035293633, 0.31455540952520683, 0.1324443829579818, 0.9737738702848507, 0.9496166306192962, 0.9481071300761904, 0.9076915330444708, 0.6114809358368101, 0.3747786380935288, 0.9737817685651206, 0.5786730289981038, 0.16877963345778027, 0.04822275241650865, 0.1928910096660346, 0.9267819052458439, 0.964659681196953, 0.3539967127158928, 0.4298531511550127, 0.20228383583765303, 0.9687169454225124, 0.4761080368456085, 0.5127317319875784, 0.3080041474632325, 0.616008294926465, 0.3153582684370667, 0.6657563444782519, 0.9439859943215675, 0.9336808871822642, 0.5977778175173822, 0.1539730742090227, 0.03170033880773997, 0.21737375182450264, 0.914024920352641, 0.0718944707733729, 0.9346281200538475, 0.9260419665273567, 0.18886128011441006, 0.8026604404862427, 0.4582942866209458, 0.1992583854873677, 0.31881341677978836, 0.9773386877989275, 0.830451105489679, 0.15378724175734798, 0.9738961494197765, 0.9517069931634741, 0.9307784571525328, 0.9212586237376456, 0.9212318296672746, 0.9439726217341113, 0.502116170910671, 0.23784450201031782, 0.2510580854553355, 0.9665086275454932, 0.48510362077089764, 0.48510362077089764, 0.7319164245135339, 0.2634899128248722, 0.45007545064412097, 0.5559755566780318, 0.18873883673585443, 0.7549553469434177, 0.21543864491833242, 0.6463159347549973, 0.13464915307395778, 0.9212963478022402, 0.20139763456000917, 0.7384579933867003, 0.3825883477821751, 0.5738825216732627, 0.5873223318927977, 0.36707645743299855, 0.7536464280721165, 0.2512154760240388, 0.5336203198082501, 0.35140850328835976, 0.10412103801136587, 0.9580872926088824, 0.22773457149874468, 0.6072921906633191, 0.11386728574937234, 0.15056169768544309, 0.2581057674607596, 0.30112339537088617, 0.29395379071919836, 0.9584056710662191, 0.9336832850234867, 0.6622385875259962, 0.3311192937629981, 0.019477605515470474, 0.9472960132480179, 0.3153490918934549, 0.6757480540574033, 0.44739486158831204, 0.5752219648992584, 0.8310048162290774, 0.1445225767354917, 0.7613062284665632, 0.07182134230816634, 0.10054987923143287, 0.05745707384653307, 0.9260588401037179, 0.12044557256160221, 0.54200507652721, 0.18066835884240331, 0.15055696570200278, 0.3280822294398652, 0.12618547286148663, 0.5299789860182438, 0.9353876976754064, 0.22569392466593194, 0.11284696233296597, 0.6206582928313128, 0.12787454730477707, 0.831184557481051, 0.5377335441626894, 0.43690850463218517, 0.9855390440193351, 0.5069612162892176, 0.08740710625676167, 0.06992568500540933, 0.34962842502704666, 0.9773343457845113, 0.6356217519760129, 0.3422578664486223, 0.3911850449179811, 0.5476590628851735, 0.4796025869073214, 0.5035827162526875, 0.9307784571525328, 0.9719007876621923, 0.29224069853618995, 0.5844813970723799, 0.08349734243891142, 0.9726969537859739, 0.9440064962814637, 0.43892036073695206, 0.3866679368396959, 0.1776582412506711, 0.5873320161142551, 0.36708251007140946, 0.9781843461767319, 0.17914622791486198, 0.48625404719748255, 0.3327001375561723, 0.9702033541699984, 0.9732550412485367, 0.9903260221870255, 0.9481205282668289, 0.2806645594160216, 0.6735949425984519, 0.3744598152957482, 0.6240996921595804, 0.9820829791329556, 0.9673129707894965, 0.907676425817385, 0.9598253736499115, 0.5571616912541812, 0.4305340341509582, 0.1554935155285648, 0.8340106741986657, 0.966316582340896, 0.9229185529846657, 0.9123935749100053, 0.08553689764781298, 0.9076789814840707, 0.9473113665185933, 0.9307795983787831, 0.8772428829771666, 0.08772428829771665, 0.8889655211634543, 0.10800515677686828, 0.9687473167557757, 0.9855457564396742, 0.9646732365330422, 0.8248468234893482, 0.17214194577169006, 0.9820872029383442, 0.935247020719623, 0.33824471780204823, 0.23416942001680263, 0.41630119114098246, 0.9581147208864693, 0.31893510063004366, 0.43284049371220207, 0.23920132547253273, 0.4447433545155854, 0.16912775453409584, 0.1503357818080852, 0.24429564543813845, 0.9439969951900128, 0.9516903299802097, 0.9860632091250335, 0.8651600549176678, 0.11284696368491319, 0.16765926679613502, 0.7544667005826076, 0.9625775599617865, 0.2706767062017874, 0.3518797180623236, 0.3789473886825024, 0.41310710891390945, 0.5680222747566255, 0.9580891543965909, 0.9917394036984314, 0.4897943799784086, 0.28200282483605343, 0.14842253938739652, 0.07421126969369826, 0.06767524492934436, 0.6090772043640993, 0.27070097971737744, 0.9285377755375189, 0.04220626252443268, 0.041830868249478015, 0.21612615262230309, 0.4461959279944322, 0.2928160777463461, 0.11803341875352719, 0.8262339312746904, 0.26946576522764853, 0.6736644130691214, 0.9687310836348507, 0.424572919216703, 0.1553315558109889, 0.41421748216263704, 0.8895120498532934, 0.08086473180484485, 0.3741062253020597, 0.5985699604832956], \"Term\": [\"account\", \"admirer\", \"age\", \"anytime\", \"apply\", \"apply\", \"apply\", \"attempt\", \"attempt\", \"auction\", \"await\", \"await\", \"award\", \"award\", \"bonus\", \"bonus\", \"box\", \"box\", \"caller\", \"camcorder\", \"camera\", \"camera\", \"cash\", \"cash\", \"cash\", \"chance\", \"chance\", \"charge\", \"charge\", \"chat\", \"chat\", \"choose\", \"choose\", \"claim\", \"claim\", \"claim\", \"club\", \"club\", \"collection\", \"com\", \"com\", \"comp\", \"comp\", \"complimentary\", \"contact\", \"contact\", \"contact\", \"contact\", \"content\", \"credit\", \"currently\", \"custcare\", \"customer\", \"customer\", \"dating\", \"day\", \"day\", \"day\", \"day\", \"direct\", \"double\", \"draw\", \"draw\", \"draw\", \"easy\", \"end\", \"end\", \"enter\", \"enter\", \"entry\", \"entry\", \"expire\", \"fantasy\", \"free\", \"free\", \"free\", \"free\", \"freemsg\", \"game\", \"game\", \"getz\", \"good\", \"good\", \"guarantee\", \"guarantee\", \"guarantee\", \"help\", \"holiday\", \"holiday\", \"hrs\", \"http\", \"identifier\", \"important\", \"ipod\", \"join\", \"just\", \"just\", \"just\", \"know\", \"land\", \"land\", \"landline\", \"landline\", \"late\", \"late\", \"ldn\", \"ldn\", \"line\", \"line\", \"line\", \"look\", \"make\", \"make\", \"match\", \"match\", \"mate\", \"mate\", \"message\", \"message\", \"min\", \"min\", \"min\", \"miss\", \"mob\", \"mob\", \"mob\", \"mobile\", \"mobile\", \"mobile\", \"mobile\", \"mobileupd\", \"motorola\", \"msg\", \"msg\", \"msg\", \"mth\", \"national\", \"national\", \"net\", \"net\", \"network\", \"network\", \"new\", \"new\", \"new\", \"new\", \"news\", \"nokia\", \"nokia\", \"nokia\", \"nokia\", \"number\", \"number\", \"number\", \"operator\", \"opt\", \"opt\", \"opt\", \"optout\", \"optout\", \"orange\", \"orange\", \"order\", \"phone\", \"phone\", \"phone\", \"phone\", \"pic\", \"play\", \"play\", \"player\", \"player\", \"pobox\", \"pobox\", \"point\", \"poly\", \"pound\", \"pound\", \"pound\", \"ppm\", \"private\", \"prize\", \"prize\", \"prize\", \"question\", \"question\", \"quiz\", \"rate\", \"rate\", \"rate\", \"receive\", \"redeem\", \"reply\", \"representative\", \"reveal\", \"reveal\", \"ringtone\", \"ringtone\", \"row\", \"sae\", \"secret\", \"select\", \"send\", \"send\", \"service\", \"service\", \"sex\", \"sexy\", \"sms\", \"sms\", \"speak\", \"special\", \"statement\", \"std\", \"std\", \"stop\", \"stop\", \"sub\", \"suite\", \"tell\", \"text\", \"text\", \"thank\", \"think\", \"today\", \"today\", \"today\", \"tomorrow\", \"tone\", \"tone\", \"tone\", \"txt\", \"txt\", \"txt\", \"txt\", \"unsubscribe\", \"update\", \"urgent\", \"valid\", \"valid\", \"value\", \"value\", \"video\", \"voucher\", \"voucher\", \"voucher\", \"wait\", \"wait\", \"wanna\", \"want\", \"week\", \"week\", \"week\", \"week\", \"weekend\", \"weekend\", \"weekend\", \"weekly\", \"weekly\", \"win\", \"win\", \"win\", \"win\", \"winner\", \"winner\", \"wkly\", \"wkly\", \"worth\", \"www\", \"www\", \"www\", \"xxx\", \"xxx\", \"year\", \"year\"]}, \"R\": 30, \"lambda.step\": 0.01, \"plot.opts\": {\"xlab\": \"PC1\", \"ylab\": \"PC2\"}, \"topic.order\": [4, 3, 1, 2]};\n",
              "\n",
              "function LDAvis_load_lib(url, callback){\n",
              "  var s = document.createElement('script');\n",
              "  s.src = url;\n",
              "  s.async = true;\n",
              "  s.onreadystatechange = s.onload = callback;\n",
              "  s.onerror = function(){console.warn(\"failed to load library \" + url);};\n",
              "  document.getElementsByTagName(\"head\")[0].appendChild(s);\n",
              "}\n",
              "\n",
              "if(typeof(LDAvis) !== \"undefined\"){\n",
              "   // already loaded: just create the visualization\n",
              "   !function(LDAvis){\n",
              "       new LDAvis(\"#\" + \"ldavis_el433139756847935304335542569\", ldavis_el433139756847935304335542569_data);\n",
              "   }(LDAvis);\n",
              "}else if(typeof define === \"function\" && define.amd){\n",
              "   // require.js is available: use it to load d3/LDAvis\n",
              "   require.config({paths: {d3: \"https://cdnjs.cloudflare.com/ajax/libs/d3/3.5.5/d3.min\"}});\n",
              "   require([\"d3\"], function(d3){\n",
              "      window.d3 = d3;\n",
              "      LDAvis_load_lib(\"https://cdn.rawgit.com/bmabey/pyLDAvis/files/ldavis.v1.0.0.js\", function(){\n",
              "        new LDAvis(\"#\" + \"ldavis_el433139756847935304335542569\", ldavis_el433139756847935304335542569_data);\n",
              "      });\n",
              "    });\n",
              "}else{\n",
              "    // require.js not available: dynamically load d3 & LDAvis\n",
              "    LDAvis_load_lib(\"https://cdnjs.cloudflare.com/ajax/libs/d3/3.5.5/d3.min.js\", function(){\n",
              "         LDAvis_load_lib(\"https://cdn.rawgit.com/bmabey/pyLDAvis/files/ldavis.v1.0.0.js\", function(){\n",
              "                 new LDAvis(\"#\" + \"ldavis_el433139756847935304335542569\", ldavis_el433139756847935304335542569_data);\n",
              "            })\n",
              "         });\n",
              "}\n",
              "</script>"
            ],
            "text/plain": [
              "PreparedData(topic_coordinates=            Freq  cluster  topics           x           y\n",
              "topic                                                    \n",
              "3      34.490634        1       1    4.706093  191.011322\n",
              "2      22.530559        1       2 -352.118500 -230.997910\n",
              "0      22.074523        1       3   69.858070 -587.861328\n",
              "1      20.904284        1       4  426.682281 -165.852036, topic_info=     Category        Freq        Term       Total  loglift  logprob\n",
              "term                                                               \n",
              "132   Default  106.000000       reply  106.000000  30.0000  30.0000\n",
              "166   Default   62.000000      urgent   62.000000  29.0000  29.0000\n",
              "155   Default  139.000000        text  139.000000  28.0000  28.0000\n",
              "150   Default  120.000000        stop  120.000000  27.0000  27.0000\n",
              "141   Default   70.000000     service   70.000000  26.0000  26.0000\n",
              "121   Default   44.000000         ppm   44.000000  25.0000  25.0000\n",
              "8     Default   67.000000       award   67.000000  24.0000  24.0000\n",
              "129   Default   38.000000     receive   38.000000  23.0000  23.0000\n",
              "19    Default  114.000000       claim  114.000000  22.0000  22.0000\n",
              "178   Default  143.000000         win  143.000000  21.0000  21.0000\n",
              "10    Default   56.000000         box   56.000000  20.0000  20.0000\n",
              "140   Default   78.000000        send   78.000000  19.0000  19.0000\n",
              "124   Default   95.000000       prize   95.000000  18.0000  18.0000\n",
              "35    Default   50.000000    customer   50.000000  17.0000  17.0000\n",
              "139   Default   27.000000      select   27.000000  16.0000  16.0000\n",
              "4     Default   30.000000       apply   30.000000  15.0000  15.0000\n",
              "119   Default   27.000000        poly   27.000000  14.0000  14.0000\n",
              "23    Default   26.000000  collection   26.000000  13.0000  13.0000\n",
              "76    Default   25.000000        know   25.000000  12.0000  12.0000\n",
              "183   Default   96.000000         www   96.000000  11.0000  11.0000\n",
              "53    Default  220.000000        free  220.000000  10.0000  10.0000\n",
              "14    Default   75.000000        cash   75.000000   9.0000   9.0000\n",
              "25    Default   56.000000         com   56.000000   8.0000   8.0000\n",
              "56    Default   27.000000        game   27.000000   7.0000   7.0000\n",
              "65    Default   32.000000     holiday   32.000000   6.0000   6.0000\n",
              "117   Default   41.000000       pobox   41.000000   5.0000   5.0000\n",
              "165   Default   22.000000      update   22.000000   4.0000   4.0000\n",
              "68    Default   22.000000        http   22.000000   3.0000   3.0000\n",
              "79    Default   37.000000        late   37.000000   2.0000   2.0000\n",
              "67    Default   22.000000         hrs   22.000000   1.0000   1.0000\n",
              "...       ...         ...         ...         ...      ...      ...\n",
              "169    Topic4    9.318851       value   11.928956   1.3183  -4.8633\n",
              "84     Topic4   11.343399        make   14.895905   1.2928  -4.6667\n",
              "134    Topic4   12.337781      reveal   17.814861   1.1978  -4.5827\n",
              "180    Topic4   10.252491        wkly   14.844186   1.1951  -4.7679\n",
              "26     Topic4    7.356845        comp   10.847421   1.1769  -5.0998\n",
              "48     Topic4   18.688348       entry   28.538969   1.1418  -4.1675\n",
              "108    Topic4   11.290008         opt   17.723118   1.1143  -4.6715\n",
              "8      Topic4   42.998636       award   67.732600   1.1108  -3.3342\n",
              "85     Topic4    9.142113       match   15.682652   1.0256  -4.8825\n",
              "13     Topic4   19.889815      camera   35.790680   0.9777  -4.1052\n",
              "115    Topic4    7.080929      player   12.781675   0.9746  -5.1380\n",
              "79     Topic4   20.617779        late   37.771445   0.9598  -4.0692\n",
              "100    Topic4    8.506261         net   15.646134   0.9558  -4.9546\n",
              "105    Topic4   21.170583      number   39.624213   0.9384  -4.0428\n",
              "19     Topic4   50.837368       claim  114.446324   0.7537  -3.1668\n",
              "183    Topic4   40.023417         www   96.567629   0.6844  -3.4059\n",
              "25     Topic4   24.198173         com   56.302171   0.7208  -3.9091\n",
              "178    Topic4   42.138777         win  143.434747   0.3403  -3.3544\n",
              "92     Topic4   40.690651      mobile  139.477705   0.3333  -3.3894\n",
              "53     Topic4   47.694703        free  220.817829   0.0327  -3.2306\n",
              "163    Topic4   38.551828         txt  159.642633   0.1443  -3.4434\n",
              "35     Topic4   19.359796    customer   50.696593   0.6026  -4.1322\n",
              "112    Topic4   19.532897       phone   57.203587   0.4907  -4.1233\n",
              "159    Topic4   16.423379       today   38.433712   0.7150  -4.2967\n",
              "15     Topic4   14.163217      chance   29.390075   0.8352  -4.4447\n",
              "62     Topic4   16.248714   guarantee   50.186094   0.4375  -4.3074\n",
              "124    Topic4   17.032826       prize   95.689341  -0.1607  -4.2602\n",
              "14     Topic4   16.099228        cash   75.053910   0.0258  -4.3166\n",
              "45     Topic4   13.729209         end   27.304727   0.8777  -4.4759\n",
              "171    Topic4   14.288970     voucher   36.944442   0.6153  -4.4359\n",
              "\n",
              "[219 rows x 6 columns], token_table=      Topic      Freq       Term\n",
              "term                            \n",
              "0         1  0.949628    account\n",
              "1         4  0.907676    admirer\n",
              "2         1  0.977309        age\n",
              "3         1  0.973250    anytime\n",
              "4         1  0.064545      apply\n",
              "4         2  0.032273      apply\n",
              "4         4  0.903632      apply\n",
              "5         2  0.757037    attempt\n",
              "5         3  0.222658    attempt\n",
              "6         3  0.982086    auction\n",
              "7         2  0.833908      await\n",
              "7         4  0.145027      await\n",
              "8         2  0.354335      award\n",
              "8         4  0.634849      award\n",
              "9         2  0.504025      bonus\n",
              "9         4  0.458204      bonus\n",
              "10        2  0.672408        box\n",
              "10        3  0.318509        box\n",
              "11        2  0.940153     caller\n",
              "12        1  0.922932  camcorder\n",
              "13        2  0.419104     camera\n",
              "13        4  0.558805     camera\n",
              "14        2  0.306446       cash\n",
              "14        3  0.479655       cash\n",
              "14        4  0.213180       cash\n",
              "15        3  0.510376     chance\n",
              "15        4  0.476351     chance\n",
              "16        1  0.480946     charge\n",
              "16        3  0.524669     charge\n",
              "17        1  0.525196       chat\n",
              "...     ...       ...        ...\n",
              "171       4  0.378947    voucher\n",
              "172       2  0.413107       wait\n",
              "172       3  0.568022       wait\n",
              "173       1  0.958089      wanna\n",
              "174       1  0.991739       want\n",
              "175       1  0.489794       week\n",
              "175       2  0.282003       week\n",
              "175       3  0.148423       week\n",
              "175       4  0.074211       week\n",
              "176       1  0.067675    weekend\n",
              "176       2  0.609077    weekend\n",
              "176       4  0.270701    weekend\n",
              "177       1  0.928538     weekly\n",
              "177       3  0.042206     weekly\n",
              "178       1  0.041831        win\n",
              "178       2  0.216126        win\n",
              "178       3  0.446196        win\n",
              "178       4  0.292816        win\n",
              "179       3  0.118033     winner\n",
              "179       4  0.826234     winner\n",
              "180       3  0.269466       wkly\n",
              "180       4  0.673664       wkly\n",
              "182       3  0.968731      worth\n",
              "183       1  0.424573        www\n",
              "183       2  0.155332        www\n",
              "183       4  0.414217        www\n",
              "185       1  0.889512        xxx\n",
              "185       2  0.080865        xxx\n",
              "186       1  0.374106       year\n",
              "186       3  0.598570       year\n",
              "\n",
              "[275 rows x 3 columns], R=30, lambda_step=0.01, plot_opts={'xlab': 'PC1', 'ylab': 'PC2'}, topic_order=[4, 3, 1, 2])"
            ]
          },
          "metadata": {
            "tags": []
          },
          "execution_count": 48
        }
      ]
    },
    {
      "metadata": {
        "id": "9BRqO2Wz3J4J",
        "colab_type": "code",
        "colab": {}
      },
      "cell_type": "code",
      "source": [
        "# Topic-Keyword Matrix\n",
        "df_topic_keywords = pd.DataFrame(best_lda_model.components_)\n",
        "\n",
        "# Assign Column and Index\n",
        "df_topic_keywords.columns = vectorizer.get_feature_names()\n",
        "df_topic_keywords.index = topicnames\n",
        "\n",
        "# View\n",
        "df_topic_keywords.head()"
      ],
      "execution_count": 0,
      "outputs": []
    },
    {
      "metadata": {
        "id": "79Xkf3az3hQ9",
        "colab_type": "code",
        "outputId": "8a2b0619-5ec1-4236-f00c-ff9d9f62a14e",
        "colab": {
          "base_uri": "https://localhost:8080/",
          "height": 173
        }
      },
      "cell_type": "code",
      "source": [
        "# Show top n keywords for each topic\n",
        "def show_topics(vectorizer, lda_model, n_words):\n",
        "    keywords = np.array(vectorizer.get_feature_names())\n",
        "    topic_keywords = []\n",
        "    for topic_weights in lda_model.components_:\n",
        "        top_keyword_locs = (-topic_weights).argsort()[:n_words]\n",
        "        topic_keywords.append(keywords.take(top_keyword_locs))\n",
        "    return topic_keywords\n",
        "\n",
        "topic_keywords = show_topics(vectorizer=vectorizer, lda_model=best_lda_model, n_words=15)        \n",
        "\n",
        "# Topic - Keywords Dataframe\n",
        "df_topic_keywords = pd.DataFrame(topic_keywords)\n",
        "df_topic_keywords.columns = ['Word '+str(i) for i in range(df_topic_keywords.shape[1])]\n",
        "df_topic_keywords.index = ['Topic '+str(i) for i in range(df_topic_keywords.shape[0])]\n",
        "df_topic_keywords"
      ],
      "execution_count": 0,
      "outputs": [
        {
          "output_type": "execute_result",
          "data": {
            "text/html": [
              "<div>\n",
              "<style scoped>\n",
              "    .dataframe tbody tr th:only-of-type {\n",
              "        vertical-align: middle;\n",
              "    }\n",
              "\n",
              "    .dataframe tbody tr th {\n",
              "        vertical-align: top;\n",
              "    }\n",
              "\n",
              "    .dataframe thead th {\n",
              "        text-align: right;\n",
              "    }\n",
              "</style>\n",
              "<table border=\"1\" class=\"dataframe\">\n",
              "  <thead>\n",
              "    <tr style=\"text-align: right;\">\n",
              "      <th></th>\n",
              "      <th>Word 0</th>\n",
              "      <th>Word 1</th>\n",
              "      <th>Word 2</th>\n",
              "      <th>Word 3</th>\n",
              "      <th>Word 4</th>\n",
              "      <th>Word 5</th>\n",
              "      <th>Word 6</th>\n",
              "      <th>Word 7</th>\n",
              "      <th>Word 8</th>\n",
              "      <th>Word 9</th>\n",
              "      <th>Word 10</th>\n",
              "      <th>Word 11</th>\n",
              "      <th>Word 12</th>\n",
              "      <th>Word 13</th>\n",
              "      <th>Word 14</th>\n",
              "    </tr>\n",
              "  </thead>\n",
              "  <tbody>\n",
              "    <tr>\n",
              "      <th>Topic 0</th>\n",
              "      <td>win</td>\n",
              "      <td>service</td>\n",
              "      <td>mobile</td>\n",
              "      <td>prize</td>\n",
              "      <td>cash</td>\n",
              "      <td>send</td>\n",
              "      <td>customer</td>\n",
              "      <td>poly</td>\n",
              "      <td>game</td>\n",
              "      <td>know</td>\n",
              "      <td>ringtone</td>\n",
              "      <td>claim</td>\n",
              "      <td>text</td>\n",
              "      <td>txt</td>\n",
              "      <td>chat</td>\n",
              "    </tr>\n",
              "    <tr>\n",
              "      <th>Topic 1</th>\n",
              "      <td>claim</td>\n",
              "      <td>free</td>\n",
              "      <td>award</td>\n",
              "      <td>win</td>\n",
              "      <td>mobile</td>\n",
              "      <td>www</td>\n",
              "      <td>txt</td>\n",
              "      <td>receive</td>\n",
              "      <td>apply</td>\n",
              "      <td>select</td>\n",
              "      <td>com</td>\n",
              "      <td>update</td>\n",
              "      <td>http</td>\n",
              "      <td>number</td>\n",
              "      <td>late</td>\n",
              "    </tr>\n",
              "    <tr>\n",
              "      <th>Topic 2</th>\n",
              "      <td>urgent</td>\n",
              "      <td>ppm</td>\n",
              "      <td>prize</td>\n",
              "      <td>claim</td>\n",
              "      <td>tone</td>\n",
              "      <td>box</td>\n",
              "      <td>nokia</td>\n",
              "      <td>mobile</td>\n",
              "      <td>free</td>\n",
              "      <td>win</td>\n",
              "      <td>contact</td>\n",
              "      <td>holiday</td>\n",
              "      <td>min</td>\n",
              "      <td>txt</td>\n",
              "      <td>collection</td>\n",
              "    </tr>\n",
              "    <tr>\n",
              "      <th>Topic 3</th>\n",
              "      <td>free</td>\n",
              "      <td>text</td>\n",
              "      <td>stop</td>\n",
              "      <td>reply</td>\n",
              "      <td>txt</td>\n",
              "      <td>new</td>\n",
              "      <td>send</td>\n",
              "      <td>www</td>\n",
              "      <td>min</td>\n",
              "      <td>just</td>\n",
              "      <td>message</td>\n",
              "      <td>msg</td>\n",
              "      <td>week</td>\n",
              "      <td>sms</td>\n",
              "      <td>com</td>\n",
              "    </tr>\n",
              "  </tbody>\n",
              "</table>\n",
              "</div>"
            ],
            "text/plain": [
              "         Word 0   Word 1  Word 2 Word 3  Word 4 Word 5    Word 6   Word 7  \\\n",
              "Topic 0     win  service  mobile  prize    cash   send  customer     poly   \n",
              "Topic 1   claim     free   award    win  mobile    www       txt  receive   \n",
              "Topic 2  urgent      ppm   prize  claim    tone    box     nokia   mobile   \n",
              "Topic 3    free     text    stop  reply     txt    new      send      www   \n",
              "\n",
              "        Word 8  Word 9   Word 10  Word 11 Word 12 Word 13     Word 14  \n",
              "Topic 0   game    know  ringtone    claim    text     txt        chat  \n",
              "Topic 1  apply  select       com   update    http  number        late  \n",
              "Topic 2   free     win   contact  holiday     min     txt  collection  \n",
              "Topic 3    min    just   message      msg    week     sms         com  "
            ]
          },
          "metadata": {
            "tags": []
          },
          "execution_count": 59
        }
      ]
    },
    {
      "metadata": {
        "colab_type": "code",
        "outputId": "d8e68fdf-41e5-498a-99b1-6e299b25e9d9",
        "id": "z1uPWalXp278",
        "colab": {
          "base_uri": "https://localhost:8080/",
          "height": 34
        }
      },
      "cell_type": "code",
      "source": [
        "# Define function to predict topic for a given text document.\n",
        "#nlp = spacy.load('en_core_web_lg', disable=['parser', 'ner'])\n",
        "\n",
        "def predict_topic(text, nlp=nlp):\n",
        "    global sent_to_words\n",
        "    global lemmatization\n",
        "\n",
        "    # Step 1: Clean with simple_preprocess\n",
        "    mytext_2 = list(sent_to_words(text))\n",
        "\n",
        "    # Step 2: Lemmatize\n",
        "    mytext_3 = lemmatization(mytext_2, allowed_postags=['NOUN', 'ADJ', 'VERB', 'ADV'])\n",
        "\n",
        "    # Step 3: Vectorize transform\n",
        "    mytext_4 = vectorizer.transform(mytext_3)\n",
        "\n",
        "    # Step 4: LDA Transform\n",
        "    topic_probability_scores = best_lda_model.transform(mytext_4)\n",
        "    topic = df_topic_keywords.iloc[np.argmax(topic_probability_scores), :].values.tolist()\n",
        "    return topic, topic_probability_scores\n",
        "\n",
        "# Predict the topic\n",
        "mytext = [\"Some text about christianity and bible\"]\n",
        "topic, prob_scores = predict_topic(text = mytext)\n",
        "print(topic, prob_scores)\n",
        "\n",
        "best_lda_model.transform(vectorizer.transform(mytext))[0]"
      ],
      "execution_count": 0,
      "outputs": [
        {
          "output_type": "execute_result",
          "data": {
            "text/plain": [
              "array([0.12828229, 0.12500221, 0.12500184, 0.62171366])"
            ]
          },
          "metadata": {
            "tags": []
          },
          "execution_count": 63
        }
      ]
    }
  ]
}